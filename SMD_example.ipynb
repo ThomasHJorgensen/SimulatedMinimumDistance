{
 "cells": [
  {
   "cell_type": "code",
   "execution_count": 97,
   "metadata": {},
   "outputs": [
    {
     "name": "stdout",
     "output_type": "stream",
     "text": [
      "The autoreload extension is already loaded. To reload it, use:\n",
      "  %reload_ext autoreload\n"
     ]
    }
   ],
   "source": [
    "# imports\n",
    "%load_ext autoreload\n",
    "%autoreload 2\n",
    "\n",
    "import numpy as np\n",
    "from collections import OrderedDict\n",
    "\n",
    "# import hack to allow this example file to load the SMD package without installing it\n",
    "import sys\n",
    "sys.path.append(\"SMD/\")\n",
    "\n",
    "import smd as SMD"
   ]
  },
  {
   "cell_type": "markdown",
   "metadata": {},
   "source": [
    "## Setup model"
   ]
  },
  {
   "cell_type": "code",
   "execution_count": 98,
   "metadata": {},
   "outputs": [],
   "source": [
    "from types import SimpleNamespace\n",
    "class Model():\n",
    "    def __init__(self):\n",
    "        \n",
    "        self.par = SimpleNamespace()\n",
    "        par = self.par\n",
    "        par.a = 2\n",
    "        par.b = 1\n",
    "        \n",
    "        par.Nsim = 200\n",
    "        \n",
    "        self.sol = SimpleNamespace()\n",
    "        self.sim = SimpleNamespace()\n",
    "        \n",
    "    def update_par(self,theta,names):\n",
    "        for name,val in zip(names,theta):\n",
    "            setattr(self.par,name,val)\n",
    "    \n",
    "    def solve(self):\n",
    "        self.sol.y = lambda x: self.par.a + self.par.b * x\n",
    "        \n",
    "    def setup_simulation(self,seed=2021):\n",
    "        np.random.seed(seed)\n",
    "        self.sim.draws = np.random.normal(size=self.par.Nsim)\n",
    "        \n",
    "    def simulate(self):\n",
    "        \n",
    "        self.sim.x = self.sim.draws\n",
    "        self.sim.y = self.sol.y(self.sim.x)\n",
    "        \n",
    "    def calc_moments(self):\n",
    "        moms = OrderedDict()\n",
    "        moms['avg'] = np.mean(self.sim.y)\n",
    "        moms['cov'] = np.cov(self.sim.y,self.sim.x)[0,1]\n",
    "        \n",
    "        return moms\n",
    "        "
   ]
  },
  {
   "cell_type": "markdown",
   "metadata": {},
   "source": [
    "## Simulate synthetic data"
   ]
  },
  {
   "cell_type": "code",
   "execution_count": 99,
   "metadata": {},
   "outputs": [
    {
     "data": {
      "text/plain": [
       "OrderedDict([('avg', 2.083390661379895), ('cov', 0.9907806084430754)])"
      ]
     },
     "execution_count": 99,
     "metadata": {},
     "output_type": "execute_result"
    }
   ],
   "source": [
    "data = Model()\n",
    "data.solve()\n",
    "data.setup_simulation(seed=2021)\n",
    "data.simulate()\n",
    "\n",
    "moms = data.calc_moments()\n",
    "moms"
   ]
  },
  {
   "cell_type": "markdown",
   "metadata": {},
   "source": [
    "## setup model and estimate $a$ and $b$"
   ]
  },
  {
   "cell_type": "code",
   "execution_count": 100,
   "metadata": {},
   "outputs": [],
   "source": [
    "model = Model()\n",
    "model.par.Nsim = 500\n",
    "model.setup_simulation(seed=2020)"
   ]
  },
  {
   "cell_type": "code",
   "execution_count": 101,
   "metadata": {},
   "outputs": [],
   "source": [
    "smd = SMD.SMDClass()\n",
    "# skip loading data and just insert datamoms for now\n",
    "smd.datamoms = moms"
   ]
  },
  {
   "cell_type": "code",
   "execution_count": 109,
   "metadata": {},
   "outputs": [
    {
     "name": "stdout",
     "output_type": "stream",
     "text": [
      "Warning: Maximum number of iterations has been exceeded.\n",
      "Warning: Desired error not necessarily achieved due to precision loss.\n",
      "         Current function value: -1.181578\n",
      "         Iterations: 19\n",
      "         Function evaluations: 527\n",
      "         Gradient evaluations: 173\n"
     ]
    }
   ],
   "source": [
    "# Estimation setup\n",
    "est_par = {\n",
    "    'a': {'init':2.0,'bounds':[1.0 , 3.0]},\n",
    "    'b': {'init':1.0,'bounds':[0.1 , 2.0]},\n",
    "}\n",
    "\n",
    "res = smd.estimate(model,est_par)"
   ]
  },
  {
   "cell_type": "code",
   "execution_count": 110,
   "metadata": {},
   "outputs": [
    {
     "data": {
      "text/plain": [
       "      fun: -1.181578411361275\n",
       " hess_inv: array([[ 4.89491830e-05, -6.22556291e-06],\n",
       "       [-6.22556291e-06,  1.26921912e-05]])\n",
       "      jac: array([-0.00029868,  0.00015272])\n",
       "  message: 'Desired error not necessarily achieved due to precision loss.'\n",
       "     nfev: 527\n",
       "      nit: 19\n",
       "     njev: 173\n",
       "   status: 2\n",
       "  success: False\n",
       "        x: array([0.99999998, 2.        ])"
      ]
     },
     "execution_count": 110,
     "metadata": {},
     "output_type": "execute_result"
    }
   ],
   "source": [
    "res"
   ]
  }
 ],
 "metadata": {
  "kernelspec": {
   "display_name": "Python 3",
   "language": "python",
   "name": "python3"
  },
  "language_info": {
   "codemirror_mode": {
    "name": "ipython",
    "version": 3
   },
   "file_extension": ".py",
   "mimetype": "text/x-python",
   "name": "python",
   "nbconvert_exporter": "python",
   "pygments_lexer": "ipython3",
   "version": "3.8.3"
  }
 },
 "nbformat": 4,
 "nbformat_minor": 4
}
