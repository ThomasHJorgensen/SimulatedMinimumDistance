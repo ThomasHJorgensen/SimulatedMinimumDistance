{
 "cells": [
  {
   "cell_type": "code",
   "execution_count": 1,
   "metadata": {},
   "outputs": [],
   "source": [
    "# imports\n",
    "%load_ext autoreload\n",
    "%autoreload 2\n",
    "\n",
    "import numpy as np\n",
    "from collections import OrderedDict\n",
    "\n",
    "# import hack to allow this example file to load the SMD package without installing it\n",
    "import sys\n",
    "sys.path.append(\"SMD/\")\n",
    "\n",
    "import smd as SMD"
   ]
  },
  {
   "cell_type": "markdown",
   "metadata": {},
   "source": [
    "## Setup model"
   ]
  },
  {
   "cell_type": "code",
   "execution_count": 2,
   "metadata": {},
   "outputs": [],
   "source": [
    "from types import SimpleNamespace\n",
    "class Model():\n",
    "    def __init__(self):\n",
    "        \n",
    "        self.par = SimpleNamespace()\n",
    "        par = self.par\n",
    "        par.a = 1\n",
    "        par.b = 2\n",
    "        \n",
    "        par.Nsim = 1000\n",
    "        \n",
    "        self.sol = SimpleNamespace()\n",
    "        self.sim = SimpleNamespace()\n",
    "        \n",
    "    def update_par(self,theta,names):\n",
    "        for name,val in zip(names,theta):\n",
    "            setattr(self.par,name,val)\n",
    "    \n",
    "    def solve(self):\n",
    "        self.sol.y = lambda x: self.par.a + self.par.b * x\n",
    "        \n",
    "    def setup_simulation(self,seed=2021):\n",
    "        np.random.seed(seed)\n",
    "        self.sim.x_draws = np.random.normal(size=self.par.Nsim)\n",
    "        self.sim.e_draws = 0.1*np.random.normal(size=self.par.Nsim)\n",
    "        \n",
    "    def simulate(self):\n",
    "        \n",
    "        self.sim.x = self.sim.x_draws\n",
    "        self.sim.y = self.sol.y(self.sim.x) + self.sim.e_draws\n",
    "        \n",
    "    def calc_moments(self):\n",
    "        moms = OrderedDict()\n",
    "        moms['avg'] = np.mean(self.sim.y)\n",
    "        moms['cov'] = np.cov(self.sim.y,self.sim.x)[0,1]\n",
    "        \n",
    "        return moms\n",
    "        "
   ]
  },
  {
   "cell_type": "markdown",
   "metadata": {},
   "source": [
    "## Simulate synthetic data"
   ]
  },
  {
   "cell_type": "code",
   "execution_count": 3,
   "metadata": {},
   "outputs": [
    {
     "data": {
      "text/plain": [
       "OrderedDict([('avg', 1.0045484831112237), ('cov', 2.0317467972390584)])"
      ]
     },
     "execution_count": 3,
     "metadata": {},
     "output_type": "execute_result"
    }
   ],
   "source": [
    "data = Model()\n",
    "data.solve()\n",
    "data.setup_simulation(seed=2021)\n",
    "data.simulate()\n",
    "\n",
    "moms = data.calc_moments()\n",
    "moms"
   ]
  },
  {
   "cell_type": "markdown",
   "metadata": {},
   "source": [
    "## setup model and estimate $a$ and $b$"
   ]
  },
  {
   "cell_type": "code",
   "execution_count": 4,
   "metadata": {},
   "outputs": [],
   "source": [
    "model = Model()\n",
    "model.par.Nsim = 5000\n",
    "model.setup_simulation(seed=2020)"
   ]
  },
  {
   "cell_type": "code",
   "execution_count": 5,
   "metadata": {},
   "outputs": [],
   "source": [
    "smd = SMD.SMDClass()\n",
    "# skip loading data and just insert datamoms for now\n",
    "smd.datamoms = moms"
   ]
  },
  {
   "cell_type": "code",
   "execution_count": 6,
   "metadata": {},
   "outputs": [
    {
     "name": "stdout",
     "output_type": "stream",
     "text": [
      "Running optimization:\n",
      "   0:\n",
      "     a = 0.5000\n",
      "     b = 2.5000\n",
      "\n",
      "   Number 1 in solver sequence of length 2\n",
      "\n",
      "    obj = 0.0328, 0.0 secs, 2 func. evals\n",
      "  10:\n",
      "     a = 0.8187\n",
      "     b = 2.1250\n",
      "Warning: Maximum number of iterations has been exceeded.\n",
      "\n",
      "   Number 2 in solver sequence of length 2\n",
      "\n",
      "    obj = 0.0000, 0.0 secs, 9 func. evals\n",
      "  20:\n",
      "     a = 0.9912\n",
      "     b = 2.0687\n",
      "Optimization terminated successfully.\n",
      "         Current function value: 0.000000\n",
      "         Iterations: 2\n",
      "         Function evaluations: 15\n",
      "         Gradient evaluations: 5\n"
     ]
    }
   ],
   "source": [
    "# Estimation setup\n",
    "est_par = {\n",
    "    'a': {'init':0.5,'bounds':[0.0 , 2.0]},\n",
    "    'b': {'init':2.5,'bounds':[0.0 , 3.0]},\n",
    "}\n",
    "\n",
    "res = smd.estimate(model,est_par,print_progress=True)"
   ]
  },
  {
   "cell_type": "code",
   "execution_count": 7,
   "metadata": {},
   "outputs": [
    {
     "data": {
      "text/plain": [
       "array([0.9914226 , 2.06864611])"
      ]
     },
     "execution_count": 7,
     "metadata": {},
     "output_type": "execute_result"
    }
   ],
   "source": [
    "res.x"
   ]
  }
 ],
 "metadata": {
  "kernelspec": {
   "display_name": "Python 3",
   "language": "python",
   "name": "python3"
  },
  "language_info": {
   "codemirror_mode": {
    "name": "ipython",
    "version": 3
   },
   "file_extension": ".py",
   "mimetype": "text/x-python",
   "name": "python",
   "nbconvert_exporter": "python",
   "pygments_lexer": "ipython3",
   "version": "3.8.3"
  }
 },
 "nbformat": 4,
 "nbformat_minor": 4
}
